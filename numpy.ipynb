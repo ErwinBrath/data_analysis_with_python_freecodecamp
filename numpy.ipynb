{
  "nbformat": 4,
  "nbformat_minor": 0,
  "metadata": {
    "colab": {
      "name": "numpy.ipynb",
      "provenance": []
    },
    "kernelspec": {
      "name": "python3",
      "display_name": "Python 3"
    },
    "language_info": {
      "name": "python"
    }
  },
  "cells": [
    {
      "cell_type": "code",
      "execution_count": 1,
      "metadata": {
        "colab": {
          "base_uri": "https://localhost:8080/"
        },
        "id": "6OdJCcrQsTrz",
        "outputId": "52481a98-50c2-48c6-c38e-986460aee843"
      },
      "outputs": [
        {
          "output_type": "stream",
          "name": "stdout",
          "text": [
            "fatal: destination path 'data_analysis_with_python_freecodecamp' already exists and is not an empty directory.\n"
          ]
        }
      ],
      "source": [
        "!git clone https://github.com/ErwinBrath/data_analysis_with_python_freecodecamp.git"
      ]
    },
    {
      "cell_type": "code",
      "source": [
        "!git config --global user.email \"lennibrath@gmail.com\"  "
      ],
      "metadata": {
        "id": "-KM-sKeitV5j"
      },
      "execution_count": 14,
      "outputs": []
    },
    {
      "cell_type": "code",
      "source": [
        "!git config --global user.name \"Erwin_Brath\""
      ],
      "metadata": {
        "id": "OV26Lc-Otw-K"
      },
      "execution_count": 15,
      "outputs": []
    },
    {
      "cell_type": "code",
      "source": [
        "!bashs"
      ],
      "metadata": {
        "id": "6cHr3oXRt5Gv"
      },
      "execution_count": null,
      "outputs": []
    }
  ]
}